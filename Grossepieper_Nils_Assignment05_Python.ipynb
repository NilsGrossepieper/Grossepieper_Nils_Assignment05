{
 "cells": [
  {
   "cell_type": "markdown",
   "id": "3e308997",
   "metadata": {},
   "source": [
    "(1) Register on github.com in case you have not done this already."
   ]
  },
  {
   "cell_type": "markdown",
   "id": "7249b965",
   "metadata": {},
   "source": [
    "Done!"
   ]
  },
  {
   "cell_type": "markdown",
   "id": "9316f9d0",
   "metadata": {},
   "source": [
    "(2) Initialize a new public repository for this assignment on GitHub."
   ]
  },
  {
   "cell_type": "markdown",
   "id": "0a88ea10",
   "metadata": {},
   "source": [
    "Connected to the public repository Grossepieper_Nils_Assignment05"
   ]
  },
  {
   "cell_type": "markdown",
   "id": "71226437",
   "metadata": {},
   "source": [
    "(3) For the following exercises of this assignment, follow the standard Git workflow (i.e., pull the latest version of the project to your local computer, then stage, commit, and push all the modifications that you make throughout the project). Every logical programming step should be well documented on GitHub with a meaningful commit message, so that other people (e.g., your course instructor) can follow and understand the development history. You can do this either using Shell commands or a Git GUI of your choice."
   ]
  },
  {
   "cell_type": "markdown",
   "id": "05280061",
   "metadata": {},
   "source": [
    "Future changes in this script will be commented on git."
   ]
  },
  {
   "cell_type": "markdown",
   "id": "52a8b13d",
   "metadata": {},
   "source": [
    "(4) In the HTML file that you submit, include the hyperlink to the project repository (e.g., https://github.com/yourUserName/yourProjectName)"
   ]
  },
  {
   "cell_type": "markdown",
   "id": "b26d4439",
   "metadata": {},
   "source": [
    "https://github.com/NilsGrossepieper/Grossepieper_Nils_Assignment05.git"
   ]
  },
  {
   "cell_type": "markdown",
   "id": "2e70227e",
   "metadata": {},
   "source": [
    "(5) Visit the documentation website for the API provided by ticketmaster.com (see here). Familiarize yourself with the features and functionalities of the Ticketmaster Discovery API. Have a particular look at rate limits."
   ]
  },
  {
   "cell_type": "markdown",
   "id": "27f3c10b",
   "metadata": {},
   "source": [
    "I have had a look at the website ticketmaster.com.\n",
    "I found the following rate limits:\n",
    "Limit: 5000 API calls per day\n",
    "Rate limit: 5 requests per second.\n",
    "Deep Paging: supports retrieving the 100th item (size * page < 1000)"
   ]
  },
  {
   "cell_type": "markdown",
   "id": "44321e3a",
   "metadata": {},
   "source": [
    "(6) Whithin the scope of this assignment, you do not have to request your own API key. Instead retrieve a valid key from the API Explorer. This API key enables you to perform the GET requests needed throughout this assignment. Even though this API key is not secret per se (it is publicly visible on the API Explorer website), please comply to the common secrecy practices discussed in the lecture and the tutorial: Treat the API key as a secret token. Your API key should neither appear in the code that you are submitting nor in your public GitHub repository."
   ]
  },
  {
   "cell_type": "code",
   "execution_count": 1,
   "id": "eb7fd538",
   "metadata": {},
   "outputs": [],
   "source": [
    "# First import all the necessary packages:\n",
    "import numpy as np\n",
    "import pandas as pd\n",
    "import requests\n",
    "import time"
   ]
  },
  {
   "cell_type": "code",
   "execution_count": 2,
   "id": "f1994db9",
   "metadata": {},
   "outputs": [],
   "source": [
    "with open(\"C:/Users/gross/OneDrive/Dokumente/data/API_key_ticket_master_script.py\") as script:\n",
    "    exec(script.readline())"
   ]
  },
  {
   "cell_type": "markdown",
   "id": "8de35524",
   "metadata": {},
   "source": [
    "(7) Perform a first GET request, that searches for event venues in Germany (countryCode = \"DE\"). Extract the content from the response object and inspect the resulting list. Describe what you can see."
   ]
  },
  {
   "cell_type": "code",
   "execution_count": null,
   "id": "ae5ac3da",
   "metadata": {},
   "outputs": [],
   "source": []
  }
 ],
 "metadata": {
  "kernelspec": {
   "display_name": "Python 3 (ipykernel)",
   "language": "python",
   "name": "python3"
  },
  "language_info": {
   "codemirror_mode": {
    "name": "ipython",
    "version": 3
   },
   "file_extension": ".py",
   "mimetype": "text/x-python",
   "name": "python",
   "nbconvert_exporter": "python",
   "pygments_lexer": "ipython3",
   "version": "3.9.13"
  }
 },
 "nbformat": 4,
 "nbformat_minor": 5
}
